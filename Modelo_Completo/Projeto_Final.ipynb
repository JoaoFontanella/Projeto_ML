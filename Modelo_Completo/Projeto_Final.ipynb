{
  "nbformat": 4,
  "nbformat_minor": 0,
  "metadata": {
    "colab": {
      "provenance": []
    },
    "kernelspec": {
      "name": "python3",
      "display_name": "Python 3"
    },
    "language_info": {
      "name": "python"
    }
  },
  "cells": [
    {
      "cell_type": "code",
      "execution_count": null,
      "metadata": {
        "id": "XcqS5xKe99SJ"
      },
      "outputs": [],
      "source": [
        "import pandas as pd\n",
        "import numpy as np\n",
        "from sklearn.model_selection import train_test_split\n",
        "from sklearn.preprocessing import StandardScaler, LabelEncoder\n",
        "\n",
        "# Carregar o dataset\n",
        "url = \"https://raw.githubusercontent.com/stedy/Machine-Learning-with-R-datasets/master/insurance.csv\"\n",
        "df = pd.read_csv(url)\n",
        "\n",
        "#Análise inicial\n",
        "print(df.head())\n",
        "print(df.info())\n",
        "\n",
        "# Pre-processamento\n",
        "label_encoder = LabelEncoder()\n",
        "df['sex'] = label_encoder.fit_transform(df['sex'])\n",
        "df['smoker'] = label_encoder.fit_transform(df['smoker'])\n",
        "df['region'] = label_encoder.fit_transform(df['region'])\n",
        "\n",
        "# Separar features e target\n",
        "X = df.drop('charges', axis=1)\n",
        "y = df['charges']\n",
        "\n",
        "# Dividir o dataset em treino e teste\n",
        "X_train, X_test, y_train, y_test = train_test_split(X, y, test_size=0.2, random_state=42)\n",
        "\n",
        "# Normalizar os dados\n",
        "scaler = StandardScaler()\n",
        "X_train = scaler.fit_transform(X_train)\n",
        "X_test = scaler.transform(X_test)"
      ]
    },
    {
      "cell_type": "code",
      "source": [
        "from sklearn.linear_model import LinearRegression\n",
        "from sklearn.ensemble import RandomForestRegressor\n",
        "from sklearn.model_selection import GridSearchCV\n",
        "\n",
        "# Modelo 1: Regressão Linear\n",
        "lin_reg = LinearRegression()\n",
        "lin_reg.fit(X_train, y_train)\n",
        "\n",
        "# Modelo 2: Random Forest\n",
        "param = {'n_estimators': [50, 100, 200], 'max_depth': [5, 10, 15]}\n",
        "rf = RandomForestRegressor(random_state=42)\n",
        "gridsearch = GridSearchCV(rf, param, cv=5, scoring='neg_mean_absolute_error')\n",
        "gridsearch.fit(X_train, y_train)\n",
        "\n",
        "# Melhor modelo e parametros\n",
        "# Melhor modelo = Random Forest\n",
        "best_rf = gridsearch.best_estimator_\n",
        "print(\"Melhores parametros para o random forest:\", gridsearch.best_params_)"
      ],
      "metadata": {
        "id": "9Wt8m00g_UEO"
      },
      "execution_count": null,
      "outputs": []
    },
    {
      "cell_type": "code",
      "source": [
        "from sklearn.metrics import mean_absolute_error, mean_squared_error, r2_score\n",
        "\n",
        "# Avaliação do modelo de regressão linear\n",
        "y_pred_rl = lin_reg.predict(X_test)\n",
        "mae_rl = mean_absolute_error(y_test, y_pred_rl)\n",
        "rmse_rl = np.sqrt(mean_squared_error(y_test, y_pred_rl))\n",
        "r2_rl = r2_score(y_test, y_pred_rl)\n",
        "\n",
        "# Avaliação do modelo random forest\n",
        "y_pred_rf = best_rf.predict(X_test)\n",
        "mae_rf = mean_absolute_error(y_test, y_pred_rf)\n",
        "rmse_rf = np.sqrt(mean_squared_error(y_test, y_pred_rf))\n",
        "r2_rf = r2_score(y_test, y_pred_rf)\n",
        "\n",
        "print(\"Regressão Linear:\")\n",
        "print(\"MAE:\", mae_rl)\n",
        "print(\"RMSE:\", rmse_rl)\n",
        "print(\"R²:\", r2_rl)\n",
        "\n",
        "print(\"\\nRandom Forest:\")\n",
        "print(\"MAE:\", mae_rf)\n",
        "print(\"RMSE:\", rmse_rf)\n",
        "print(\"R²:\", r2_rf)"
      ],
      "metadata": {
        "id": "Be6PxJ5xCnIj"
      },
      "execution_count": null,
      "outputs": []
    },
    {
      "cell_type": "code",
      "source": [
        "import matplotlib.pyplot as plt\n",
        "import seaborn as sns\n",
        "\n",
        "# Grafico de dispersão para o random forest\n",
        "plt.figure(figsize=(10, 6))\n",
        "sns.scatterplot(x=y_test, y=y_pred_rf)\n",
        "plt.xlabel(\"Valores Reais\")\n",
        "plt.ylabel(\"Previsões\")\n",
        "plt.title(\"Gráfico de Dispersão - Modelo Random Forest\")\n",
        "plt.show()"
      ],
      "metadata": {
        "id": "hEb8g9xPJnwh"
      },
      "execution_count": null,
      "outputs": []
    },
    {
      "cell_type": "code",
      "source": [
        "import joblib\n",
        "\n",
        "# Salvar o modelo\n",
        "joblib.dump(best_rf, 'random_forest_model.joblib')\n",
        "joblib.dump(scaler, 'scaler.joblib')"
      ],
      "metadata": {
        "id": "Y4TJ286DJV2U"
      },
      "execution_count": null,
      "outputs": []
    },
    {
      "cell_type": "code",
      "source": [
        "# Carregar o modelo para fazer previsões\n",
        "loaded_model = joblib.load('random_forest_model.joblib')\n",
        "loaded_scaler = joblib.load('scaler.joblib')\n",
        "\n",
        "# Fazer previsão\n",
        "sample_data = np.array([[25, 1, 30, 0, 1, 2]])  # Exemplo de entrada\n",
        "sample_data_scaled = loaded_scaler.transform(sample_data)\n",
        "prediction = loaded_model.predict(sample_data_scaled)\n",
        "print(\"Previsão de custo de seguro:\", prediction[0])"
      ],
      "metadata": {
        "id": "Af44bPDyJhUM"
      },
      "execution_count": null,
      "outputs": []
    }
  ]
}